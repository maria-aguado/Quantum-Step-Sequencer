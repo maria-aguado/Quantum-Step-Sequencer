{
 "cells": [
  {
   "cell_type": "code",
   "execution_count": 10,
   "metadata": {},
   "outputs": [],
   "source": [
    "import socket\n",
    "\n",
    "#create a socket and connect it to localhost with port 3002 (UDP)\n",
    "s = socket.socket(socket.AF_INET, socket.SOCK_DGRAM)\n",
    "s.connect(('localhost', 3002))\n",
    "\n",
    "#empty array of the data to be sent\n",
    "data = [0 for i in range(13)]\n",
    "\n",
    "#function that converts index to midi note (scale)\n",
    "#for example, 1->60, 2->62, ...\n",
    "scale = [0,2,3,5,7,8,10,12,14,15,17,18,20,22] #minor scale\n",
    "\n",
    "def indexToMidi(n):\n",
    "    return scale[n]+30\n",
    "\n",
    "#function that converts a note to midi value\n",
    "def noteToMidi(n,offset):\n",
    "    if n == -1:\n",
    "        return 0\n",
    "    else:\n",
    "        return indexToMidi(n)+offset\n",
    "\n",
    "#function that prepares the snare and hihat\n",
    "# - if -1, return 0\n",
    "# - else, return 10\n",
    "def stepPerc(n):\n",
    "    if n == -1:\n",
    "        return 0\n",
    "    elif n==0:\n",
    "        return 10\n",
    "    else:\n",
    "        return 20\n",
    "\n",
    "#function that that fills the data array with the actual data\n",
    "def sendMusic(chord, bass, melody, snare, hihat, counter, cycle):\n",
    "    cycle2 = 1 if cycle>1 else 0\n",
    "    #first the melody (q0) and the bass\n",
    "    data[0] = noteToMidi(melody,24)\n",
    "    data[1] = noteToMidi(bass[cycle2], 0) if counter==0 else 0\n",
    "    #now chord notes (0-7)\n",
    "    for i in range(8):\n",
    "        data[i+2] = noteToMidi(i,24) if (counter==0 and chord[cycle2][i]) else 0 \n",
    "    #now snare and hihat\n",
    "    data[10] = stepPerc(snare)\n",
    "    data[11] = stepPerc(hihat)\n",
    "    data[12] = 10 if counter%4==0 else 0\n",
    "\n",
    "    #data to str\n",
    "    str1 = \"\"\n",
    "    for i in range(12):\n",
    "        str1 += str(data[i]) + \" \"\n",
    "    #log(str1)\n",
    "\n",
    "    s.send(bytes(data))\n"
   ]
  }
 ],
 "metadata": {
  "kernelspec": {
   "display_name": "Python 3",
   "language": "python",
   "name": "python3"
  },
  "language_info": {
   "codemirror_mode": {
    "name": "ipython",
    "version": 3
   },
   "file_extension": ".py",
   "mimetype": "text/x-python",
   "name": "python",
   "nbconvert_exporter": "python",
   "pygments_lexer": "ipython3",
   "version": "3.9.13"
  },
  "orig_nbformat": 4
 },
 "nbformat": 4,
 "nbformat_minor": 2
}
